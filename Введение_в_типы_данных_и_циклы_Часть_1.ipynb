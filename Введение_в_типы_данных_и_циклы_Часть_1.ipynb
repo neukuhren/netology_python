{
  "cells": [
    {
      "cell_type": "markdown",
      "metadata": {
        "id": "NNIYMZOVvsVC"
      },
      "source": [
        "# Домашнее задание к лекции \"Введение в типы данных и циклы. Часть 1\""
      ]
    },
    {
      "cell_type": "markdown",
      "metadata": {
        "id": "PQ4yavhjvsVD"
      },
      "source": [
        "## Задание 1\n",
        "Дана переменная, в которой хранится слово из латинских букв. Напишите код, который выводит на экран:\n",
        "- среднюю букву, если число букв в слове нечетное;\n",
        "- две средних буквы, если число букв четное.\n",
        "\n",
        "Примеры работы программы:  \n",
        "1. `word = 'test'`\n",
        "\n",
        "Результат:  \n",
        "`es`  \n",
        "  \n",
        "2.     \n",
        "`word = 'testing'`\n",
        "\n",
        "Результат:  \n",
        "`t`"
      ]
    },
    {
      "cell_type": "code",
      "source": [
        "word = input('Введите слово: ')\n",
        "result = ''\n",
        "avg_index = len(word)//2\n",
        "if len(word) % 2 == 1:\n",
        "  result = word[avg_index]\n",
        "else:\n",
        "  result = word[(avg_index - 1):(avg_index + 1)]\n",
        "print (result)"
      ],
      "metadata": {
        "id": "DL0qMqKoxV0Z"
      },
      "execution_count": null,
      "outputs": []
    },
    {
      "cell_type": "markdown",
      "metadata": {
        "id": "kGYz0lghvsVE"
      },
      "source": [
        "## Задание 2\n",
        "Напишите программу, которая последовательно запрашивает у пользователя числа (по одному за раз) и после первого нуля выводит сумму всех ранее введенных чисел.\n",
        "\n",
        "Примеры работы программы:  \n",
        "1.   \n",
        "\n",
        "```\n",
        "Введите число:  \n",
        "1\n",
        "\n",
        "Введите число:  \n",
        "4\n",
        "\n",
        "Введите число:  \n",
        "6\n",
        "\n",
        "Введите число:  \n",
        "0\n",
        "```\n",
        "\n",
        "Результат:  \n",
        "`11`\n",
        "\n",
        "2.      \n",
        "\n",
        "```\n",
        "Введите число:  \n",
        "0\n",
        "```  \n",
        "\n",
        "Результат:  \n",
        "`0`"
      ]
    },
    {
      "cell_type": "code",
      "source": [
        "numbers = []\n",
        "number = None\n",
        "total = .0\n",
        "while number != 0:\n",
        "  number = float(input('Введите число: '))\n",
        "  numbers.append(number)\n",
        "for number in numbers:\n",
        "  total += number\n",
        "print(f'Результат: {total}')"
      ],
      "metadata": {
        "id": "u3ZOdhiR181L"
      },
      "execution_count": null,
      "outputs": []
    },
    {
      "cell_type": "markdown",
      "metadata": {
        "id": "Iqr8oDa1vsVE"
      },
      "source": [
        "## Задание 3\n",
        "\n",
        "Мы делаем [MVP] dating-сервиса, и у нас есть список парней и девушек.  \n",
        "Выдвигаем гипотезу: лучшие рекомендации мы получим, если просто отсортируем имена по алфавиту и познакомим людей с одинаковыми индексами после сортировки!\n",
        "Но мы не будем никого знакомить, если кто-то может остаться без пары:\n",
        "\n",
        "Примеры работы программы:  \n",
        "1.  \n",
        "\n",
        "```\n",
        "boys = ['Peter', 'Alex', 'John', 'Arthur', 'Richard']\n",
        "girls = ['Kate', 'Liza', 'Kira', 'Emma', 'Trisha']\n",
        "```\n",
        "\n",
        "Результат:  \n",
        "```\n",
        "Идеальные пары:  \n",
        "Alex и Emma  \n",
        "Arthur и Kate  \n",
        "John и Kira  \n",
        "Peter и Liza  \n",
        "Richard и Trisha \n",
        "```\n",
        "2.     \n",
        "\n",
        "```\n",
        "boys = ['Peter', 'Alex', 'John', 'Arthur', 'Richard', 'Michael']\n",
        "girls = ['Kate', 'Liza', 'Kira', 'Emma', 'Trisha']\n",
        "```\n",
        "\n",
        "Результат:  \n",
        "`Внимание, кто-то может остаться без пары!`"
      ]
    },
    {
      "cell_type": "code",
      "source": [
        "boys = ['Peter', 'Alex', 'John', 'Arthur', 'Richard', 'Michael']\n",
        "girls = ['Kate', 'Liza', 'Kira', 'Emma', 'Trisha']\n",
        "if len(boys) != len(girls):\n",
        "  print('Внимание, кто-то может остаться без пары!')\n",
        "else:\n",
        "  print('Идеальные пары:')\n",
        "  boys.sort()\n",
        "  girls.sort()\n",
        "  for index in range(0, len(boys)):\n",
        "    print(f'{boys[index]} и {girls[index]}')"
      ],
      "metadata": {
        "id": "ENjCn3EV5c_7"
      },
      "execution_count": null,
      "outputs": []
    },
    {
      "cell_type": "markdown",
      "metadata": {
        "id": "4GTFawqrvsVF"
      },
      "source": [
        "## Задание 4\n",
        "\n",
        "У нас есть список, содержащий информацию о среднедневной температуре в Фаренгейтах за произвольный период по странам (структура данных в примере).\n",
        "Необходимо написать код, который рассчитает среднюю температуру за период в Цельсиях(!) для каждой страны.\n",
        "\n",
        "Пример работы программы:  \n",
        "```\n",
        "countries_temperature = [\n",
        "    ['Таиланд', [75.2, 77, 78.8, 73.4, 68, 75.2, 77]],\n",
        "    ['Германия', [57.2, 55.4, 59, 59, 53.6]],\n",
        "    ['Россия', [35.6, 37.4, 39.2, 41, 42.8, 39.2, 35.6]],\n",
        "    ['Польша', [50, 50, 53.6, 57.2, 55.4, 55.4]]\n",
        "]\n",
        "```\n",
        "\n",
        "Результат:  \n",
        "```\n",
        "Средняя температура в странах:\n",
        "Таиланд  -  23.9 С\n",
        "Германия  -  13.8 С\n",
        "Россия  -  3.7 С\n",
        "Польша  -  12.0 С\n",
        "```"
      ]
    },
    {
      "cell_type": "code",
      "source": [
        "countries_temperature = [\n",
        "    ['Таиланд', [75.2, 77, 78.8, 73.4, 68, 75.2, 77]],\n",
        "    ['Германия', [57.2, 55.4, 59, 59, 53.6]],\n",
        "    ['Россия', [35.6, 37.4, 39.2, 41, 42.8, 39.2, 35.6]],\n",
        "    ['Польша', [50, 50, 53.6, 57.2, 55.4, 55.4]]\n",
        "]\n",
        "print('Средняя температура в странах:')\n",
        "for c_t in countries_temperature:\n",
        "  print(c_t[0], end=' - ')  # c_t[0] is country\n",
        "  avg_temp_f = sum(c_t[1]) / len (c_t[1])  # c_t[1] is list_of_temperatures\n",
        "  avg_temp_c = round(5/9 * (avg_temp_f - 32), 1)\n",
        "  print(f'{avg_temp_c} C')"
      ],
      "metadata": {
        "id": "5qkmm4Uj_ALF"
      },
      "execution_count": null,
      "outputs": []
    },
    {
      "cell_type": "markdown",
      "metadata": {
        "id": "FK3X9Y1ivsVF"
      },
      "source": [
        "## Задание 5 (необязательное)\n",
        "\n",
        "Имеется список с транспортными номерами. Необходимо написать код, который проверит каждый номер на валидность (1 буква, 3 цифры, 2 буквы, 2-3 цифры). Обратите внимание, что не все буквы кириллического алфавита используются в транспортных номерах.\n",
        "\n",
        "Если номер валиден, то вывести его в нужном формавте (пример ниже), а если не валиден — вывести текст. При решении помогут регулярные выражения, с которыми будет знакомство на практике.\n",
        "\n",
        "Примеры работы программы:  \n",
        "\n",
        "`car_ids = ['А222ВС96', 'АБ22ВВ193']`\n",
        "\n",
        "Результат: \n",
        "```\n",
        "Номер А222ВС валиден. Регион: 96\n",
        "Номер АБ22ВВ193 не валиден\n",
        "```"
      ]
    },
    {
      "cell_type": "code",
      "source": [
        "# ГОСТом для использования на знаках разрешены 12 букв кириллицы\n",
        "valid_symbols = ['А', 'В', 'Е', 'К', 'М', 'Н', 'О', 'Р', 'С', 'Т', 'У', 'Х']\n",
        "car_ids = ['Е012КХ01', 'А123МР123', 'АБ22ВВ193', 'АБ22ВВ190000003', 'А567ЕМ9']\n",
        "for car_id in car_ids:\n",
        "  is_valid = True\n",
        "  if len(car_id) < 8 or len(car_id) > 9:\n",
        "    is_valid = False\n",
        "  else:\n",
        "    if car_id[0] not in valid_symbols: is_valid = False\n",
        "    if not car_id[1].isdigit(): is_valid = False\n",
        "    if car_id[4] not in valid_symbols: is_valid = False\n",
        "    if car_id[5] not in valid_symbols: is_valid = False\n",
        "  if is_valid == True:\n",
        "    print(f'Номер {car_id} валиден. Регион: {car_id[6:]}')\n",
        "  else:\n",
        "    print(f'Номер {car_id} не валиден')"
      ],
      "metadata": {
        "id": "FBT9TkPsDt3G"
      },
      "execution_count": null,
      "outputs": []
    },
    {
      "cell_type": "markdown",
      "metadata": {
        "id": "qqTdqr1DvsVG"
      },
      "source": [
        "## Задание 6 (необязательное)\n",
        "\n",
        "Дан поток логов по количеству просмотренных страниц для каждого пользователя (`пользователь,дата;просмотры`). Вам необходимо написать алгоритм, который считает среднее значение просмотров на пользователя. \n",
        "Т. е. надо посчитать отношение суммы всех просмотров к количеству уникальных пользователей. И тут регулярные выражения облегчат немного реализацию.\n",
        "\n",
        "Примеры работы программы:  \n",
        "1.  \n",
        "\n",
        "```\n",
        "stream = [\n",
        "    'user4,2021-01-01;3',\n",
        "    'user3,2022-01-07;4',\n",
        "    'user2,2022-03-29;1',\n",
        "    'user1,2020-04-04;13',\n",
        "    'user2,2022-01-05;7',\n",
        "    'user1,2021-06-14;4',\n",
        "    'user3,2022-07-02;10',\n",
        "    'user4,2021-03-21;19',\n",
        "    'user4,2022-03-22;4',\n",
        "    'user4,2022-04-22;8',\n",
        "    'user4,2021-05-03;9',\n",
        "    'user4,2022-05-11;11'\n",
        "]\n",
        "```\n",
        "\n",
        "Результат:  \n",
        "`Среднее количество просмотров на уникального пользователя: 23.25`  \n",
        "\n",
        "2.     \n",
        "\n",
        "```\n",
        "stream = [\n",
        "    'user100,2022-01-01;150',\n",
        "    'user99,2022-01-07;205',\n",
        "    'user1001,2022-03-29;81'\n",
        "]\n",
        "```\n",
        "\n",
        "Результат:  \n",
        "`Среднее количество просмотров на уникального пользователя: 145.33`"
      ]
    },
    {
      "cell_type": "code",
      "source": [
        "import re\n",
        "stream = [\n",
        "    'user4,2021-01-01;3',\n",
        "    'user3,2022-01-07;4',\n",
        "    'user2,2022-03-29;1',\n",
        "    'user1,2020-04-04;13',\n",
        "    'user2,2022-01-05;7',\n",
        "    'user1,2021-06-14;4',\n",
        "    'user3,2022-07-02;10',\n",
        "    'user4,2021-03-21;19',\n",
        "    'user4,2022-03-22;4',\n",
        "    'user4,2022-04-22;8',\n",
        "    'user4,2021-05-03;9',\n",
        "    'user4,2022-05-11;11'\n",
        "]\n",
        "\n",
        "# Обработка исходных данных\n",
        "new_stream = []\n",
        "users_browsers = {}\n",
        "for note in stream:\n",
        "  new_stream.append(re.split(',|;', note))\n",
        "\n",
        "# Аггрегация просмотров по пользователям\n",
        "for note in new_stream:\n",
        "  if note[0] not in users_browsers:\n",
        "    users_browsers[note[0]] = int(note[2])\n",
        "  else:\n",
        "    users_browsers[note[0]] = users_browsers[note[0]] + int(note[2])\n",
        "\n",
        "# Вычисление среднего количества просмотров\n",
        "total_browsers = 0\n",
        "for user in users_browsers:\n",
        "  total_browsers += users_browsers[user]\n",
        "avg_browser = total_browsers / len(users_browsers)\n",
        "print(f'Среднее количество просмотров на уникального пользователя: {avg_browser}')\n"
      ],
      "metadata": {
        "id": "yykcYHwjd3E1"
      },
      "execution_count": null,
      "outputs": []
    }
  ],
  "metadata": {
    "kernelspec": {
      "display_name": "Python 3",
      "language": "python",
      "name": "python3"
    },
    "language_info": {
      "codemirror_mode": {
        "name": "ipython",
        "version": 3
      },
      "file_extension": ".py",
      "mimetype": "text/x-python",
      "name": "python",
      "nbconvert_exporter": "python",
      "pygments_lexer": "ipython3",
      "version": "3.8.5"
    },
    "colab": {
      "provenance": [],
      "toc_visible": true
    }
  },
  "nbformat": 4,
  "nbformat_minor": 0
}