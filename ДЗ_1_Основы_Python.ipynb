{
  "nbformat": 4,
  "nbformat_minor": 0,
  "metadata": {
    "colab": {
      "provenance": []
    },
    "kernelspec": {
      "name": "python3",
      "display_name": "Python 3"
    },
    "language_info": {
      "name": "python"
    }
  },
  "cells": [
    {
      "cell_type": "markdown",
      "source": [
        "# Домашнее задание к лекции \"Основы Python\"\n",
        "\n",
        "## Задание 1\n",
        "Даны 2 переменных, в которых хранятся строки произвольной длины: phrase_1 и phrase_2.\n",
        "Напишите код, который проверяет какая из этих строк длиннее.\n"
      ],
      "metadata": {
        "id": "DmT9JSJ3T7sB"
      }
    },
    {
      "cell_type": "code",
      "source": [
        "phrase_1 = 'Насколько проще было бы писать программы, если бы не заказчики'\n",
        "phrase_2 = '640Кб должно хватить для любых задач. Билл Гейтс (по легенде)'\n",
        "if phrase_1 > phrase_2:\n",
        "  print('Фраза 1 длиннее фразы 2')\n",
        "elif phrase_1 < phrase_2:\n",
        "  print('Фраза 2 длиннее фразы 1')\n",
        "else:\n",
        "  print('Фраза 1 равна по длине фразе 2')"
      ],
      "metadata": {
        "id": "rHzphjuNUlXP"
      },
      "execution_count": null,
      "outputs": []
    },
    {
      "cell_type": "markdown",
      "source": [
        "## Задание 2\n",
        "Дана переменная, в которой хранится число (год). Необходимо написать программу, которая выведет, является ли данный год високосным или обычным."
      ],
      "metadata": {
        "id": "CzNHbBwlV6TN"
      }
    },
    {
      "cell_type": "code",
      "source": [
        "year = 2021\n",
        "if year % 4 == 0:\n",
        "  print('Високосный год')\n",
        "else:\n",
        "  print('Обычный год')"
      ],
      "metadata": {
        "id": "BI2KOLbsWGBT"
      },
      "execution_count": null,
      "outputs": []
    },
    {
      "cell_type": "markdown",
      "source": [
        "Задание 3\n",
        "Необходимо написать программу, которая будет запрашивать у пользователя месяц и дату рождения и выводить соответствующий знак зодиака."
      ],
      "metadata": {
        "id": "Oz2OBTgIWtUP"
      }
    },
    {
      "cell_type": "code",
      "source": [
        "day = int(input('Введите день:'))\n",
        "months = input('Введите месяц:')\n",
        "zodiac = ''\n",
        "if months == 'Январь':\n",
        "  if day <= 19: zodiac = 'козерог'\n",
        "  else: zodiac = 'водолей'\n",
        "elif months == 'Февраль':\n",
        "  if day <= 19: zodiac = 'водолей'\n",
        "  else: zodiac = 'рыбы'\n",
        "elif months == 'Март':\n",
        "  if day <= 20: zodiac = 'рыбы'\n",
        "  else: zodiac = 'овен'\n",
        "elif months == 'Апрель':\n",
        "  if day <= 19: zodiac = 'овен'\n",
        "  else: zodiac = 'телец'\n",
        "elif months == 'Май':\n",
        "  if day <= 20: zodiac = 'телец'\n",
        "  else: zodiac = 'близнецы'\n",
        "elif months == 'Июнь':\n",
        "  if day <= 20: zodiac = 'близнецы'\n",
        "  else: zodiac = 'рак'\n",
        "elif months == 'Июль':\n",
        "  if day <= 22: zodiac = 'рак'\n",
        "  else: zodiac = 'лев'\n",
        "elif months == 'Август':\n",
        "  if day <= 22: zodiac = 'лев'\n",
        "  else: zodiac = 'дева'\n",
        "elif months == 'Сентябрь':\n",
        "  if day <= 22: zodiac = 'дева'\n",
        "  else: zodiac = 'весы'\n",
        "elif months == 'Октябрь':\n",
        "  if day <= 23: zodiac = 'весы'\n",
        "  else: zodiac = 'скорпион'\n",
        "elif months == 'Ноябрь':\n",
        "  if day <= 22: zodiac = 'скорпион'\n",
        "  else: zodiac = 'стрелец'\n",
        "elif months == 'Декабрь':\n",
        "  if day <= 21: zodiac = 'стрелец'\n",
        "  else: zodiac = 'козерог'\n",
        "else:\n",
        "  zodiac = 'определить не удалось'\n",
        "print('Ваш знак зодиака:', zodiac)"
      ],
      "metadata": {
        "id": "F4mxfYKnXOF-"
      },
      "execution_count": null,
      "outputs": []
    },
    {
      "cell_type": "markdown",
      "source": [
        "##Задание 4\n",
        "Вам нужно написать программу для подбора упаковок по размерам товара. Размеры (ширина, длина, высота) хранятся в переменных (в сантиметрах):\n",
        "\n",
        "Используйте следующие правила:\n",
        "\n",
        "если каждое из трех измерений менее или равно 15 сантиметрам, то выведите на экран \"Коробка №1\";\n",
        "если хотя бы одно из измерений больше 15 сантиметров, но менее 50 сантиметров, то выводите \"Коробка №2\";\n",
        "если хотя бы одно из измерений больше 2 метров, то выводите \"Упаковка для лыж\";\n",
        "во всех остальных случаях выводите \"Коробка №3\"."
      ],
      "metadata": {
        "id": "oMvGWVJVfEjB"
      }
    },
    {
      "cell_type": "code",
      "source": [
        "width = 15\n",
        "lenght = 55\n",
        "height = 15\n",
        "if width <= 15 and lenght <= 15 and height <= 15:\n",
        "  result = 'Коробка №1'\n",
        "elif width < 50 and lenght < 50 and height < 50:\n",
        "  result = 'Коробка №2'\n",
        "elif width > 200 or lenght > 200 or height > 200:\n",
        "  result = 'Упаковка для лыж'\n",
        "else:\n",
        "  result = 'Коробка №3'\n",
        "print('Результат:', result)"
      ],
      "metadata": {
        "id": "7gF2PsDIfUDc"
      },
      "execution_count": null,
      "outputs": []
    },
    {
      "cell_type": "markdown",
      "source": [
        "##Задание 5 (необязательное)\n",
        "Дана переменная, в которой хранится шестизначное число (номер проездного билета). Напишите программу, которая будет определять, является ли данный билет \"счастливым\". Билет считается счастливым, если сумма первых трех цифр совпадает с суммой последних трех цифр номера."
      ],
      "metadata": {
        "id": "qOCqzaZvliA2"
      }
    },
    {
      "cell_type": "code",
      "source": [
        "number = input('Введите номер билета:')\n",
        "count = 1\n",
        "part1 = 0\n",
        "part2 = 0\n",
        "for symbol in number:\n",
        "  if count <= 3:\n",
        "    part1 += int(symbol)\n",
        "  else:\n",
        "    part2 += int(symbol)\n",
        "  count += 1\n",
        "if part1 == part2:\n",
        "  print('Счастливый билет')\n",
        "else:\n",
        "  print('Несчастливый билет')\n"
      ],
      "metadata": {
        "id": "7HndPhlKlpAA"
      },
      "execution_count": null,
      "outputs": []
    },
    {
      "cell_type": "markdown",
      "source": [
        "##Задание 6 (необязательное)\n",
        "Напишите программу, которая сможет вычислять площади трех фигур (круг, треугольник и прямоугольник). Тип фигуры запрашиваем через пользовательский ввод, после чего делаем запрос характеристик фигуры:\n",
        "\n",
        "если пользователь выбрал круг, запрашиваем его радиус,\n",
        "если треугольник – длины трех его сторон;\n",
        "если прямоугольник – длины двух его сторон."
      ],
      "metadata": {
        "id": "FXCKu7nOo9vd"
      }
    },
    {
      "cell_type": "code",
      "source": [
        "figure = input('Введите тип фигуры: ')\n",
        "a = 0\n",
        "b = 0\n",
        "c = 0\n",
        "s = 0\n",
        "if figure == 'Круг':\n",
        "  r = int(input('Введите радиус: '))\n",
        "  s = r**2 * 3.141592653589793\n",
        "  print('площадь круга:', round(s, 2))\n",
        "elif figure == 'Треугольник':\n",
        "  a = int(input('Введите длину стороны А: '))\n",
        "  b = int(input('Введите длину стороны B: '))\n",
        "  c = int(input('Введите длину стороны C: '))\n",
        "  p = (a + b + c) * 2\n",
        "  s = (p*(p-a)*(p-b)*(p-c))**0.5\n",
        "  print('площадь треугольника:', round(s, 2))\n",
        "elif figure == 'Прямоугольник':\n",
        "  a = int(input('Введите длину стороны А: '))\n",
        "  b = int(input('Введите длину стороны B: '))\n",
        "  s = a * b\n",
        "  print('площадь прямоугольника:', round(s, 2))\n",
        "else:\n",
        "  print('Фигура не определена')"
      ],
      "metadata": {
        "id": "zAMENYtkpmkR"
      },
      "execution_count": null,
      "outputs": []
    }
  ]
}